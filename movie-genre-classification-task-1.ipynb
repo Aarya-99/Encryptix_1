{
 "cells": [
  {
   "cell_type": "code",
   "execution_count": 1,
   "id": "c10a89b8",
   "metadata": {
    "_cell_guid": "b1076dfc-b9ad-4769-8c92-a6c4dae69d19",
    "_uuid": "8f2839f25d086af736a60e9eeb907d3b93b6e0e5",
    "execution": {
     "iopub.execute_input": "2024-07-08T06:29:01.626926Z",
     "iopub.status.busy": "2024-07-08T06:29:01.626493Z",
     "iopub.status.idle": "2024-07-08T06:29:02.534281Z",
     "shell.execute_reply": "2024-07-08T06:29:02.532927Z"
    },
    "papermill": {
     "duration": 0.920129,
     "end_time": "2024-07-08T06:29:02.537130",
     "exception": false,
     "start_time": "2024-07-08T06:29:01.617001",
     "status": "completed"
    },
    "tags": []
   },
   "outputs": [
    {
     "name": "stdout",
     "output_type": "stream",
     "text": [
      "/kaggle/input/movie-genre-classification/description.txt\n",
      "/kaggle/input/movie-genre-classification/test_data_solution.txt\n",
      "/kaggle/input/movie-genre-classification/test_data.txt\n",
      "/kaggle/input/movie-genre-classification/train_data.txt\n"
     ]
    }
   ],
   "source": [
    "# This Python 3 environment comes with many helpful analytics libraries installed\n",
    "# It is defined by the kaggle/python Docker image: https://github.com/kaggle/docker-python\n",
    "# For example, here's several helpful packages to load\n",
    "\n",
    "import numpy as np # linear algebra\n",
    "import pandas as pd # data processing, CSV file I/O (e.g. pd.read_csv)\n",
    "\n",
    "# Input data files are available in the read-only \"../input/\" directory\n",
    "# For example, running this (by clicking run or pressing Shift+Enter) will list all files under the input directory\n",
    "\n",
    "import os\n",
    "for dirname, _, filenames in os.walk('/kaggle/input'):\n",
    "    for filename in filenames:\n",
    "        print(os.path.join(dirname, filename))\n",
    "\n",
    "# You can write up to 20GB to the current directory (/kaggle/working/) that gets preserved as output when you create a version using \"Save & Run All\" \n",
    "# You can also write temporary files to /kaggle/temp/, but they won't be saved outside of the current session"
   ]
  },
  {
   "cell_type": "code",
   "execution_count": 2,
   "id": "878c747a",
   "metadata": {
    "execution": {
     "iopub.execute_input": "2024-07-08T06:29:02.553804Z",
     "iopub.status.busy": "2024-07-08T06:29:02.553239Z",
     "iopub.status.idle": "2024-07-08T06:29:02.558492Z",
     "shell.execute_reply": "2024-07-08T06:29:02.557128Z"
    },
    "papermill": {
     "duration": 0.016103,
     "end_time": "2024-07-08T06:29:02.560863",
     "exception": false,
     "start_time": "2024-07-08T06:29:02.544760",
     "status": "completed"
    },
    "tags": []
   },
   "outputs": [],
   "source": [
    "# Name: Aarya Nitin Shirke\n",
    "# Task-1:Movie Genre Classification"
   ]
  },
  {
   "cell_type": "code",
   "execution_count": 3,
   "id": "42fc724f",
   "metadata": {
    "execution": {
     "iopub.execute_input": "2024-07-08T06:29:02.577677Z",
     "iopub.status.busy": "2024-07-08T06:29:02.577294Z",
     "iopub.status.idle": "2024-07-08T06:29:05.007819Z",
     "shell.execute_reply": "2024-07-08T06:29:05.006676Z"
    },
    "papermill": {
     "duration": 2.441965,
     "end_time": "2024-07-08T06:29:05.010254",
     "exception": false,
     "start_time": "2024-07-08T06:29:02.568289",
     "status": "completed"
    },
    "tags": []
   },
   "outputs": [
    {
     "name": "stdout",
     "output_type": "stream",
     "text": [
      "/kaggle/input/movie-genre-classification/description.txt\n",
      "/kaggle/input/movie-genre-classification/test_data_solution.txt\n",
      "/kaggle/input/movie-genre-classification/test_data.txt\n",
      "/kaggle/input/movie-genre-classification/train_data.txt\n"
     ]
    }
   ],
   "source": [
    "import numpy as np \n",
    "import pandas as pd \n",
    "import matplotlib.pyplot as plt\n",
    "import seaborn as sns\n",
    "import re\n",
    "import string\n",
    "import nltk\n",
    "from nltk.stem import LancasterStemmer\n",
    "from nltk.tokenize import word_tokenize\n",
    "from nltk.stem import PorterStemmer\n",
    "from nltk.corpus import stopwords\n",
    "stop_words = set(stopwords.words('english'))\n",
    "from wordcloud import WordCloud\n",
    "from sklearn.feature_extraction.text import TfidfVectorizer\n",
    "from sklearn.model_selection import train_test_split\n",
    "from sklearn.linear_model import LogisticRegression\n",
    "from sklearn.naive_bayes import MultinomialNB\n",
    "from sklearn.svm import SVC\n",
    "from sklearn.metrics import accuracy_score, classification_report, confusion_matrix , accuracy_score, recall_score, f1_score\n",
    "\n",
    "import os\n",
    "for dirname, _, filenames in os.walk('/kaggle/input'):\n",
    "    for filename in filenames:\n",
    "        print(os.path.join(dirname, filename))\n",
    "\n",
    "import warnings\n",
    "warnings.filterwarnings(\"ignore\")"
   ]
  },
  {
   "cell_type": "markdown",
   "id": "d25f03bc",
   "metadata": {
    "papermill": {
     "duration": 0.007537,
     "end_time": "2024-07-08T06:29:05.025986",
     "exception": false,
     "start_time": "2024-07-08T06:29:05.018449",
     "status": "completed"
    },
    "tags": []
   },
   "source": [
    "# Explore Data"
   ]
  },
  {
   "cell_type": "code",
   "execution_count": 4,
   "id": "fce45bce",
   "metadata": {
    "execution": {
     "iopub.execute_input": "2024-07-08T06:29:05.043488Z",
     "iopub.status.busy": "2024-07-08T06:29:05.042914Z",
     "iopub.status.idle": "2024-07-08T06:29:06.093666Z",
     "shell.execute_reply": "2024-07-08T06:29:06.092500Z"
    },
    "papermill": {
     "duration": 1.062405,
     "end_time": "2024-07-08T06:29:06.096464",
     "exception": false,
     "start_time": "2024-07-08T06:29:05.034059",
     "status": "completed"
    },
    "tags": []
   },
   "outputs": [],
   "source": [
    "df = pd.read_csv('/kaggle/input/movie-genre-classification/train_data.txt', sep='\\t', on_bad_lines='skip')"
   ]
  },
  {
   "cell_type": "code",
   "execution_count": 5,
   "id": "5187e5b2",
   "metadata": {
    "execution": {
     "iopub.execute_input": "2024-07-08T06:29:06.113391Z",
     "iopub.status.busy": "2024-07-08T06:29:06.113017Z",
     "iopub.status.idle": "2024-07-08T06:29:06.133117Z",
     "shell.execute_reply": "2024-07-08T06:29:06.131986Z"
    },
    "papermill": {
     "duration": 0.031463,
     "end_time": "2024-07-08T06:29:06.135503",
     "exception": false,
     "start_time": "2024-07-08T06:29:06.104040",
     "status": "completed"
    },
    "tags": []
   },
   "outputs": [
    {
     "data": {
      "text/html": [
       "<div>\n",
       "<style scoped>\n",
       "    .dataframe tbody tr th:only-of-type {\n",
       "        vertical-align: middle;\n",
       "    }\n",
       "\n",
       "    .dataframe tbody tr th {\n",
       "        vertical-align: top;\n",
       "    }\n",
       "\n",
       "    .dataframe thead th {\n",
       "        text-align: right;\n",
       "    }\n",
       "</style>\n",
       "<table border=\"1\" class=\"dataframe\">\n",
       "  <thead>\n",
       "    <tr style=\"text-align: right;\">\n",
       "      <th></th>\n",
       "      <th>1 ::: Oscar et la dame rose (2009) ::: drama ::: Listening in to a conversation between his doctor and parents, 10-year-old Oscar learns what nobody has the courage to tell him. He only has a few weeks to live. Furious, he refuses to speak to anyone except straight-talking Rose, the lady in pink he meets on the hospital stairs. As Christmas approaches, Rose uses her fantastical experiences as a professional wrestler, her imagination, wit and charm to allow Oscar to live life and love to the full, in the company of his friends Pop Corn, Einstein, Bacon and childhood sweetheart Peggy Blue.</th>\n",
       "    </tr>\n",
       "  </thead>\n",
       "  <tbody>\n",
       "    <tr>\n",
       "      <th>0</th>\n",
       "      <td>2 ::: Cupid (1997) ::: thriller ::: A brother ...</td>\n",
       "    </tr>\n",
       "    <tr>\n",
       "      <th>1</th>\n",
       "      <td>3 ::: Young, Wild and Wonderful (1980) ::: adu...</td>\n",
       "    </tr>\n",
       "    <tr>\n",
       "      <th>2</th>\n",
       "      <td>4 ::: The Secret Sin (1915) ::: drama ::: To h...</td>\n",
       "    </tr>\n",
       "    <tr>\n",
       "      <th>3</th>\n",
       "      <td>5 ::: The Unrecovered (2007) ::: drama ::: The...</td>\n",
       "    </tr>\n",
       "    <tr>\n",
       "      <th>4</th>\n",
       "      <td>6 ::: Quality Control (2011) ::: documentary :...</td>\n",
       "    </tr>\n",
       "  </tbody>\n",
       "</table>\n",
       "</div>"
      ],
      "text/plain": [
       "  1 ::: Oscar et la dame rose (2009) ::: drama ::: Listening in to a conversation between his doctor and parents, 10-year-old Oscar learns what nobody has the courage to tell him. He only has a few weeks to live. Furious, he refuses to speak to anyone except straight-talking Rose, the lady in pink he meets on the hospital stairs. As Christmas approaches, Rose uses her fantastical experiences as a professional wrestler, her imagination, wit and charm to allow Oscar to live life and love to the full, in the company of his friends Pop Corn, Einstein, Bacon and childhood sweetheart Peggy Blue.\n",
       "0  2 ::: Cupid (1997) ::: thriller ::: A brother ...                                                                                                                                                                                                                                                                                                                                                                                                                                                                                                                                                                \n",
       "1  3 ::: Young, Wild and Wonderful (1980) ::: adu...                                                                                                                                                                                                                                                                                                                                                                                                                                                                                                                                                                \n",
       "2  4 ::: The Secret Sin (1915) ::: drama ::: To h...                                                                                                                                                                                                                                                                                                                                                                                                                                                                                                                                                                \n",
       "3  5 ::: The Unrecovered (2007) ::: drama ::: The...                                                                                                                                                                                                                                                                                                                                                                                                                                                                                                                                                                \n",
       "4  6 ::: Quality Control (2011) ::: documentary :...                                                                                                                                                                                                                                                                                                                                                                                                                                                                                                                                                                "
      ]
     },
     "execution_count": 5,
     "metadata": {},
     "output_type": "execute_result"
    }
   ],
   "source": [
    "df.head()"
   ]
  },
  {
   "cell_type": "code",
   "execution_count": 6,
   "id": "c84fb31c",
   "metadata": {
    "execution": {
     "iopub.execute_input": "2024-07-08T06:29:06.152735Z",
     "iopub.status.busy": "2024-07-08T06:29:06.152306Z",
     "iopub.status.idle": "2024-07-08T06:29:06.628919Z",
     "shell.execute_reply": "2024-07-08T06:29:06.627712Z"
    },
    "papermill": {
     "duration": 0.488569,
     "end_time": "2024-07-08T06:29:06.631798",
     "exception": false,
     "start_time": "2024-07-08T06:29:06.143229",
     "status": "completed"
    },
    "tags": []
   },
   "outputs": [],
   "source": [
    "train_data = pd.read_csv('/kaggle/input/movie-genre-classification/train_data.txt', sep=\":::\", names=[\"Title\", \"Genre\", \"Description\"], engine=\"python\")"
   ]
  },
  {
   "cell_type": "code",
   "execution_count": 7,
   "id": "5f7eb3ec",
   "metadata": {
    "execution": {
     "iopub.execute_input": "2024-07-08T06:29:06.650214Z",
     "iopub.status.busy": "2024-07-08T06:29:06.649813Z",
     "iopub.status.idle": "2024-07-08T06:29:06.660429Z",
     "shell.execute_reply": "2024-07-08T06:29:06.659422Z"
    },
    "papermill": {
     "duration": 0.022468,
     "end_time": "2024-07-08T06:29:06.662553",
     "exception": false,
     "start_time": "2024-07-08T06:29:06.640085",
     "status": "completed"
    },
    "tags": []
   },
   "outputs": [
    {
     "data": {
      "text/html": [
       "<div>\n",
       "<style scoped>\n",
       "    .dataframe tbody tr th:only-of-type {\n",
       "        vertical-align: middle;\n",
       "    }\n",
       "\n",
       "    .dataframe tbody tr th {\n",
       "        vertical-align: top;\n",
       "    }\n",
       "\n",
       "    .dataframe thead th {\n",
       "        text-align: right;\n",
       "    }\n",
       "</style>\n",
       "<table border=\"1\" class=\"dataframe\">\n",
       "  <thead>\n",
       "    <tr style=\"text-align: right;\">\n",
       "      <th></th>\n",
       "      <th>Title</th>\n",
       "      <th>Genre</th>\n",
       "      <th>Description</th>\n",
       "    </tr>\n",
       "  </thead>\n",
       "  <tbody>\n",
       "    <tr>\n",
       "      <th>1</th>\n",
       "      <td>Oscar et la dame rose (2009)</td>\n",
       "      <td>drama</td>\n",
       "      <td>Listening in to a conversation between his do...</td>\n",
       "    </tr>\n",
       "    <tr>\n",
       "      <th>2</th>\n",
       "      <td>Cupid (1997)</td>\n",
       "      <td>thriller</td>\n",
       "      <td>A brother and sister with a past incestuous r...</td>\n",
       "    </tr>\n",
       "    <tr>\n",
       "      <th>3</th>\n",
       "      <td>Young, Wild and Wonderful (1980)</td>\n",
       "      <td>adult</td>\n",
       "      <td>As the bus empties the students for their fie...</td>\n",
       "    </tr>\n",
       "    <tr>\n",
       "      <th>4</th>\n",
       "      <td>The Secret Sin (1915)</td>\n",
       "      <td>drama</td>\n",
       "      <td>To help their unemployed father make ends mee...</td>\n",
       "    </tr>\n",
       "    <tr>\n",
       "      <th>5</th>\n",
       "      <td>The Unrecovered (2007)</td>\n",
       "      <td>drama</td>\n",
       "      <td>The film's title refers not only to the un-re...</td>\n",
       "    </tr>\n",
       "  </tbody>\n",
       "</table>\n",
       "</div>"
      ],
      "text/plain": [
       "                                Title       Genre  \\\n",
       "1       Oscar et la dame rose (2009)       drama    \n",
       "2                       Cupid (1997)    thriller    \n",
       "3   Young, Wild and Wonderful (1980)       adult    \n",
       "4              The Secret Sin (1915)       drama    \n",
       "5             The Unrecovered (2007)       drama    \n",
       "\n",
       "                                         Description  \n",
       "1   Listening in to a conversation between his do...  \n",
       "2   A brother and sister with a past incestuous r...  \n",
       "3   As the bus empties the students for their fie...  \n",
       "4   To help their unemployed father make ends mee...  \n",
       "5   The film's title refers not only to the un-re...  "
      ]
     },
     "execution_count": 7,
     "metadata": {},
     "output_type": "execute_result"
    }
   ],
   "source": [
    "train_data.head()"
   ]
  },
  {
   "cell_type": "code",
   "execution_count": 8,
   "id": "e9e4539e",
   "metadata": {
    "execution": {
     "iopub.execute_input": "2024-07-08T06:29:06.679821Z",
     "iopub.status.busy": "2024-07-08T06:29:06.679388Z",
     "iopub.status.idle": "2024-07-08T06:29:06.686476Z",
     "shell.execute_reply": "2024-07-08T06:29:06.685353Z"
    },
    "papermill": {
     "duration": 0.018504,
     "end_time": "2024-07-08T06:29:06.688805",
     "exception": false,
     "start_time": "2024-07-08T06:29:06.670301",
     "status": "completed"
    },
    "tags": []
   },
   "outputs": [
    {
     "data": {
      "text/plain": [
       "(54214, 3)"
      ]
     },
     "execution_count": 8,
     "metadata": {},
     "output_type": "execute_result"
    }
   ],
   "source": [
    "train_data.shape"
   ]
  },
  {
   "cell_type": "code",
   "execution_count": 9,
   "id": "66547d82",
   "metadata": {
    "execution": {
     "iopub.execute_input": "2024-07-08T06:29:06.706277Z",
     "iopub.status.busy": "2024-07-08T06:29:06.705890Z",
     "iopub.status.idle": "2024-07-08T06:29:06.741978Z",
     "shell.execute_reply": "2024-07-08T06:29:06.740315Z"
    },
    "papermill": {
     "duration": 0.047613,
     "end_time": "2024-07-08T06:29:06.744366",
     "exception": false,
     "start_time": "2024-07-08T06:29:06.696753",
     "status": "completed"
    },
    "tags": []
   },
   "outputs": [
    {
     "name": "stdout",
     "output_type": "stream",
     "text": [
      "<class 'pandas.core.frame.DataFrame'>\n",
      "Index: 54214 entries, 1 to 54214\n",
      "Data columns (total 3 columns):\n",
      " #   Column       Non-Null Count  Dtype \n",
      "---  ------       --------------  ----- \n",
      " 0   Title        54214 non-null  object\n",
      " 1   Genre        54214 non-null  object\n",
      " 2   Description  54214 non-null  object\n",
      "dtypes: object(3)\n",
      "memory usage: 1.7+ MB\n"
     ]
    }
   ],
   "source": [
    "train_data.info()"
   ]
  },
  {
   "cell_type": "code",
   "execution_count": 10,
   "id": "87e08f93",
   "metadata": {
    "execution": {
     "iopub.execute_input": "2024-07-08T06:29:06.763552Z",
     "iopub.status.busy": "2024-07-08T06:29:06.763152Z",
     "iopub.status.idle": "2024-07-08T06:29:06.881072Z",
     "shell.execute_reply": "2024-07-08T06:29:06.879878Z"
    },
    "papermill": {
     "duration": 0.130227,
     "end_time": "2024-07-08T06:29:06.883577",
     "exception": false,
     "start_time": "2024-07-08T06:29:06.753350",
     "status": "completed"
    },
    "tags": []
   },
   "outputs": [
    {
     "data": {
      "text/html": [
       "<div>\n",
       "<style scoped>\n",
       "    .dataframe tbody tr th:only-of-type {\n",
       "        vertical-align: middle;\n",
       "    }\n",
       "\n",
       "    .dataframe tbody tr th {\n",
       "        vertical-align: top;\n",
       "    }\n",
       "\n",
       "    .dataframe thead th {\n",
       "        text-align: right;\n",
       "    }\n",
       "</style>\n",
       "<table border=\"1\" class=\"dataframe\">\n",
       "  <thead>\n",
       "    <tr style=\"text-align: right;\">\n",
       "      <th></th>\n",
       "      <th>Title</th>\n",
       "      <th>Genre</th>\n",
       "      <th>Description</th>\n",
       "    </tr>\n",
       "  </thead>\n",
       "  <tbody>\n",
       "    <tr>\n",
       "      <th>count</th>\n",
       "      <td>54214</td>\n",
       "      <td>54214</td>\n",
       "      <td>54214</td>\n",
       "    </tr>\n",
       "    <tr>\n",
       "      <th>unique</th>\n",
       "      <td>54214</td>\n",
       "      <td>27</td>\n",
       "      <td>54086</td>\n",
       "    </tr>\n",
       "    <tr>\n",
       "      <th>top</th>\n",
       "      <td>Oscar et la dame rose (2009)</td>\n",
       "      <td>drama</td>\n",
       "      <td>Grammy - music award of the American academy ...</td>\n",
       "    </tr>\n",
       "    <tr>\n",
       "      <th>freq</th>\n",
       "      <td>1</td>\n",
       "      <td>13613</td>\n",
       "      <td>12</td>\n",
       "    </tr>\n",
       "  </tbody>\n",
       "</table>\n",
       "</div>"
      ],
      "text/plain": [
       "                                 Title    Genre  \\\n",
       "count                            54214    54214   \n",
       "unique                           54214       27   \n",
       "top      Oscar et la dame rose (2009)    drama    \n",
       "freq                                 1    13613   \n",
       "\n",
       "                                              Description  \n",
       "count                                               54214  \n",
       "unique                                              54086  \n",
       "top      Grammy - music award of the American academy ...  \n",
       "freq                                                   12  "
      ]
     },
     "execution_count": 10,
     "metadata": {},
     "output_type": "execute_result"
    }
   ],
   "source": [
    "train_data.describe()"
   ]
  },
  {
   "cell_type": "code",
   "execution_count": 11,
   "id": "c25dcacd",
   "metadata": {
    "execution": {
     "iopub.execute_input": "2024-07-08T06:29:06.903638Z",
     "iopub.status.busy": "2024-07-08T06:29:06.902520Z",
     "iopub.status.idle": "2024-07-08T06:29:07.027797Z",
     "shell.execute_reply": "2024-07-08T06:29:07.026671Z"
    },
    "papermill": {
     "duration": 0.138064,
     "end_time": "2024-07-08T06:29:07.030375",
     "exception": false,
     "start_time": "2024-07-08T06:29:06.892311",
     "status": "completed"
    },
    "tags": []
   },
   "outputs": [
    {
     "data": {
      "text/plain": [
       "0"
      ]
     },
     "execution_count": 11,
     "metadata": {},
     "output_type": "execute_result"
    }
   ],
   "source": [
    "train_data.duplicated().sum()"
   ]
  },
  {
   "cell_type": "code",
   "execution_count": 12,
   "id": "d93d3107",
   "metadata": {
    "execution": {
     "iopub.execute_input": "2024-07-08T06:29:07.048708Z",
     "iopub.status.busy": "2024-07-08T06:29:07.048298Z",
     "iopub.status.idle": "2024-07-08T06:29:07.069804Z",
     "shell.execute_reply": "2024-07-08T06:29:07.068531Z"
    },
    "papermill": {
     "duration": 0.033751,
     "end_time": "2024-07-08T06:29:07.072414",
     "exception": false,
     "start_time": "2024-07-08T06:29:07.038663",
     "status": "completed"
    },
    "tags": []
   },
   "outputs": [
    {
     "data": {
      "text/plain": [
       "Title          0\n",
       "Genre          0\n",
       "Description    0\n",
       "dtype: int64"
      ]
     },
     "execution_count": 12,
     "metadata": {},
     "output_type": "execute_result"
    }
   ],
   "source": [
    "train_data.isnull().sum()"
   ]
  },
  {
   "cell_type": "code",
   "execution_count": 13,
   "id": "5a165e63",
   "metadata": {
    "execution": {
     "iopub.execute_input": "2024-07-08T06:29:07.091266Z",
     "iopub.status.busy": "2024-07-08T06:29:07.090907Z",
     "iopub.status.idle": "2024-07-08T06:29:07.774263Z",
     "shell.execute_reply": "2024-07-08T06:29:07.773288Z"
    },
    "papermill": {
     "duration": 0.695586,
     "end_time": "2024-07-08T06:29:07.776740",
     "exception": false,
     "start_time": "2024-07-08T06:29:07.081154",
     "status": "completed"
    },
    "tags": []
   },
   "outputs": [],
   "source": [
    "test_data = pd.read_csv('/kaggle/input/movie-genre-classification/test_data.txt', sep=\":::\", names=[\"Id\" ,\"Title\", \"Description\"], engine=\"python\")"
   ]
  },
  {
   "cell_type": "code",
   "execution_count": 14,
   "id": "25724a17",
   "metadata": {
    "execution": {
     "iopub.execute_input": "2024-07-08T06:29:07.795677Z",
     "iopub.status.busy": "2024-07-08T06:29:07.794635Z",
     "iopub.status.idle": "2024-07-08T06:29:07.805626Z",
     "shell.execute_reply": "2024-07-08T06:29:07.804424Z"
    },
    "papermill": {
     "duration": 0.023014,
     "end_time": "2024-07-08T06:29:07.808250",
     "exception": false,
     "start_time": "2024-07-08T06:29:07.785236",
     "status": "completed"
    },
    "tags": []
   },
   "outputs": [
    {
     "data": {
      "text/html": [
       "<div>\n",
       "<style scoped>\n",
       "    .dataframe tbody tr th:only-of-type {\n",
       "        vertical-align: middle;\n",
       "    }\n",
       "\n",
       "    .dataframe tbody tr th {\n",
       "        vertical-align: top;\n",
       "    }\n",
       "\n",
       "    .dataframe thead th {\n",
       "        text-align: right;\n",
       "    }\n",
       "</style>\n",
       "<table border=\"1\" class=\"dataframe\">\n",
       "  <thead>\n",
       "    <tr style=\"text-align: right;\">\n",
       "      <th></th>\n",
       "      <th>Id</th>\n",
       "      <th>Title</th>\n",
       "      <th>Description</th>\n",
       "    </tr>\n",
       "  </thead>\n",
       "  <tbody>\n",
       "    <tr>\n",
       "      <th>0</th>\n",
       "      <td>1</td>\n",
       "      <td>Edgar's Lunch (1998)</td>\n",
       "      <td>L.R. Brane loves his life - his car, his apar...</td>\n",
       "    </tr>\n",
       "    <tr>\n",
       "      <th>1</th>\n",
       "      <td>2</td>\n",
       "      <td>La guerra de papá (1977)</td>\n",
       "      <td>Spain, March 1964: Quico is a very naughty ch...</td>\n",
       "    </tr>\n",
       "    <tr>\n",
       "      <th>2</th>\n",
       "      <td>3</td>\n",
       "      <td>Off the Beaten Track (2010)</td>\n",
       "      <td>One year in the life of Albin and his family ...</td>\n",
       "    </tr>\n",
       "    <tr>\n",
       "      <th>3</th>\n",
       "      <td>4</td>\n",
       "      <td>Meu Amigo Hindu (2015)</td>\n",
       "      <td>His father has died, he hasn't spoken with hi...</td>\n",
       "    </tr>\n",
       "    <tr>\n",
       "      <th>4</th>\n",
       "      <td>5</td>\n",
       "      <td>Er nu zhai (1955)</td>\n",
       "      <td>Before he was known internationally as a mart...</td>\n",
       "    </tr>\n",
       "  </tbody>\n",
       "</table>\n",
       "</div>"
      ],
      "text/plain": [
       "   Id                          Title  \\\n",
       "0   1          Edgar's Lunch (1998)    \n",
       "1   2      La guerra de papá (1977)    \n",
       "2   3   Off the Beaten Track (2010)    \n",
       "3   4        Meu Amigo Hindu (2015)    \n",
       "4   5             Er nu zhai (1955)    \n",
       "\n",
       "                                         Description  \n",
       "0   L.R. Brane loves his life - his car, his apar...  \n",
       "1   Spain, March 1964: Quico is a very naughty ch...  \n",
       "2   One year in the life of Albin and his family ...  \n",
       "3   His father has died, he hasn't spoken with hi...  \n",
       "4   Before he was known internationally as a mart...  "
      ]
     },
     "execution_count": 14,
     "metadata": {},
     "output_type": "execute_result"
    }
   ],
   "source": [
    "test_data.head()"
   ]
  },
  {
   "cell_type": "code",
   "execution_count": 15,
   "id": "e5ef1d10",
   "metadata": {
    "execution": {
     "iopub.execute_input": "2024-07-08T06:29:07.828336Z",
     "iopub.status.busy": "2024-07-08T06:29:07.827583Z",
     "iopub.status.idle": "2024-07-08T06:29:07.833907Z",
     "shell.execute_reply": "2024-07-08T06:29:07.832898Z"
    },
    "papermill": {
     "duration": 0.018942,
     "end_time": "2024-07-08T06:29:07.836537",
     "exception": false,
     "start_time": "2024-07-08T06:29:07.817595",
     "status": "completed"
    },
    "tags": []
   },
   "outputs": [
    {
     "data": {
      "text/plain": [
       "(54200, 3)"
      ]
     },
     "execution_count": 15,
     "metadata": {},
     "output_type": "execute_result"
    }
   ],
   "source": [
    "test_data.shape"
   ]
  },
  {
   "cell_type": "code",
   "execution_count": 16,
   "id": "6c1e500e",
   "metadata": {
    "execution": {
     "iopub.execute_input": "2024-07-08T06:29:07.855500Z",
     "iopub.status.busy": "2024-07-08T06:29:07.855121Z",
     "iopub.status.idle": "2024-07-08T06:29:07.876930Z",
     "shell.execute_reply": "2024-07-08T06:29:07.875791Z"
    },
    "papermill": {
     "duration": 0.033885,
     "end_time": "2024-07-08T06:29:07.879160",
     "exception": false,
     "start_time": "2024-07-08T06:29:07.845275",
     "status": "completed"
    },
    "tags": []
   },
   "outputs": [
    {
     "name": "stdout",
     "output_type": "stream",
     "text": [
      "<class 'pandas.core.frame.DataFrame'>\n",
      "RangeIndex: 54200 entries, 0 to 54199\n",
      "Data columns (total 3 columns):\n",
      " #   Column       Non-Null Count  Dtype \n",
      "---  ------       --------------  ----- \n",
      " 0   Id           54200 non-null  int64 \n",
      " 1   Title        54200 non-null  object\n",
      " 2   Description  54200 non-null  object\n",
      "dtypes: int64(1), object(2)\n",
      "memory usage: 1.2+ MB\n"
     ]
    }
   ],
   "source": [
    "test_data.info()"
   ]
  },
  {
   "cell_type": "markdown",
   "id": "a22bd9b8",
   "metadata": {
    "papermill": {
     "duration": 0.008433,
     "end_time": "2024-07-08T06:29:07.896324",
     "exception": false,
     "start_time": "2024-07-08T06:29:07.887891",
     "status": "completed"
    },
    "tags": []
   },
   "source": [
    "# Analysis"
   ]
  },
  {
   "cell_type": "code",
   "execution_count": 17,
   "id": "f0711743",
   "metadata": {
    "execution": {
     "iopub.execute_input": "2024-07-08T06:29:07.915312Z",
     "iopub.status.busy": "2024-07-08T06:29:07.914924Z",
     "iopub.status.idle": "2024-07-08T06:29:08.380553Z",
     "shell.execute_reply": "2024-07-08T06:29:08.379463Z"
    },
    "papermill": {
     "duration": 0.479798,
     "end_time": "2024-07-08T06:29:08.384798",
     "exception": false,
     "start_time": "2024-07-08T06:29:07.905000",
     "status": "completed"
    },
    "tags": []
   },
   "outputs": [
    {
     "data": {
      "image/png": "[encoded data removed]",
      "text/plain": [
       "<Figure size 1000x1500 with 1 Axes>"
      ]
     },
     "metadata": {},
     "output_type": "display_data"
    }
   ],
   "source": [
    "plt.figure(figsize=(10,15))\n",
    "sns.countplot(data=train_data, y=\"Genre\", order= train_data[\"Genre\"].value_counts().index)\n",
    "plt.show()"
   ]
  },
  {
   "cell_type": "code",
   "execution_count": 18,
   "id": "eb962d08",
   "metadata": {
    "execution": {
     "iopub.execute_input": "2024-07-08T06:29:08.415067Z",
     "iopub.status.busy": "2024-07-08T06:29:08.413938Z",
     "iopub.status.idle": "2024-07-08T06:29:08.423409Z",
     "shell.execute_reply": "2024-07-08T06:29:08.422031Z"
    },
    "papermill": {
     "duration": 0.029309,
     "end_time": "2024-07-08T06:29:08.427639",
     "exception": false,
     "start_time": "2024-07-08T06:29:08.398330",
     "status": "completed"
    },
    "tags": []
   },
   "outputs": [
    {
     "name": "stdout",
     "output_type": "stream",
     "text": [
      "Genre:  [0]\n",
      " Listening in to a conversation between his doctor and parents, 10-year-old Oscar learns what nobody has the courage to tell him. He only has a few weeks to live. Furious, he refuses to speak to anyone except straight-talking Rose, the lady in pink he meets on the hospital stairs. As Christmas approaches, Rose uses her fantastical experiences as a professional wrestler, her imagination, wit and charm to allow Oscar to live life and love to the full, in the company of his friends Pop Corn, Einstein, Bacon and childhood sweetheart Peggy Blue. \n",
      "\n",
      "Title:   Oscar et la dame rose (2009)  \n",
      "\n",
      "\n",
      "Genre:  [1]\n",
      " A brother and sister with a past incestuous relationship have a current murderous relationship. He murders the women who reject him and she murders the women who get too close to him. \n",
      "\n",
      "Title:   Cupid (1997)  \n",
      "\n",
      "\n",
      "Genre:  [2]\n",
      " As the bus empties the students for their field trip to the Museum of Natural History, little does the tour guide suspect that the students are there for more than just another tour. First, during the lecture films, the coeds drift into dreams of the most erotic fantasies one can imagine. After the films, they release the emotion of the fantasies in the most erotic and uncommon ways. One slips off to the curator's office for a little \"acquisition. \" Another finds the anthropologist to see what bones can be identified. Even the head teacher isn't immune. Soon the tour is over, but as the bus departs, everyone admits it was quite an education. \n",
      "\n",
      "Title:   Young, Wild and Wonderful (1980)  \n",
      "\n",
      "\n",
      "Genre:  [3]\n",
      " To help their unemployed father make ends meet, Edith and her twin sister Grace work as seamstresses . An invalid, Grace falls prey to the temptations of Chinatown opium and becomes an addict, a condition worsened by a misguided physician who prescribes morphine to ease her pain. When their father strikes oil, the family enjoys a new prosperity and the sisters meet the eligible Jack Herron, a fellow oil prospector. To Grace's shock, Jack falls in love with Edith and in her jealousy, Grace tells Jack that Edith, not she, has a drug problem. Hinting that her sister will soon need more morphine, Grace arranges for a dinner in Chinatown with the couple. While her sister and Jack dance, Grace slips away to an opium den. Edith follows her, but ends up in the wrong den and is arrested in an ensuing drug raid. After he bails her out of jail, Edith takes an angry Jack to search for Grace and stumbles across her half-conscious body lying in the street. The truth about the sisters is revealed, and after sending Grace to a sanitarium in the country, Jack and Edith are married. \n",
      "\n",
      "Title:   The Secret Sin (1915)  \n",
      "\n",
      "\n",
      "Genre:  [4]\n",
      " The film's title refers not only to the un-recovered bodies at ground zero, but also to the state of the nation at large. Set in the hallucinatory period of time between September 11 and Halloween of 2001, The Unrecovered examines the effect of terror on the average mind, the way a state of heightened anxiety and/or alertness can cause the average person to make the sort of imaginative connections that are normally made only by artists and conspiracy theorists-both of whom figure prominently in this film. The Unrecovered explores the way in which irony, empathy, and paranoia relate to one another in the wake of 9/11. \n",
      "\n",
      "Title:   The Unrecovered (2007)  \n",
      "\n",
      "\n"
     ]
    }
   ],
   "source": [
    "for i in range(5):\n",
    "    print(\"Genre: \", [i])\n",
    "    print(train_data['Description'].iloc[i], \"\\n\")\n",
    "    print(\"Title: \", train_data['Title'].iloc[i], \"\\n\\n\")"
   ]
  },
  {
   "cell_type": "code",
   "execution_count": 19,
   "id": "77780ac0",
   "metadata": {
    "execution": {
     "iopub.execute_input": "2024-07-08T06:29:08.457540Z",
     "iopub.status.busy": "2024-07-08T06:29:08.457157Z",
     "iopub.status.idle": "2024-07-08T06:29:08.466026Z",
     "shell.execute_reply": "2024-07-08T06:29:08.464955Z"
    },
    "papermill": {
     "duration": 0.027566,
     "end_time": "2024-07-08T06:29:08.468703",
     "exception": false,
     "start_time": "2024-07-08T06:29:08.441137",
     "status": "completed"
    },
    "tags": []
   },
   "outputs": [
    {
     "data": {
      "text/plain": [
       "1               drama \n",
       "2            thriller \n",
       "3               adult \n",
       "4               drama \n",
       "5               drama \n",
       "             ...      \n",
       "54210          comedy \n",
       "54211          horror \n",
       "54212     documentary \n",
       "54213          comedy \n",
       "54214         history \n",
       "Name: Genre, Length: 54214, dtype: object"
      ]
     },
     "execution_count": 19,
     "metadata": {},
     "output_type": "execute_result"
    }
   ],
   "source": [
    "train_data['Genre']"
   ]
  },
  {
   "cell_type": "code",
   "execution_count": 20,
   "id": "334635f6",
   "metadata": {
    "execution": {
     "iopub.execute_input": "2024-07-08T06:29:08.490376Z",
     "iopub.status.busy": "2024-07-08T06:29:08.489994Z",
     "iopub.status.idle": "2024-07-08T06:29:08.498905Z",
     "shell.execute_reply": "2024-07-08T06:29:08.497751Z"
    },
    "papermill": {
     "duration": 0.02271,
     "end_time": "2024-07-08T06:29:08.501272",
     "exception": false,
     "start_time": "2024-07-08T06:29:08.478562",
     "status": "completed"
    },
    "tags": []
   },
   "outputs": [
    {
     "data": {
      "text/plain": [
       "1               drama \n",
       "2            thriller \n",
       "3               adult \n",
       "4               drama \n",
       "5               drama \n",
       "             ...      \n",
       "54210          comedy \n",
       "54211          horror \n",
       "54212     documentary \n",
       "54213          comedy \n",
       "54214         history \n",
       "Name: Genre, Length: 54214, dtype: object"
      ]
     },
     "execution_count": 20,
     "metadata": {},
     "output_type": "execute_result"
    }
   ],
   "source": [
    "train_data['Genre']"
   ]
  },
  {
   "cell_type": "code",
   "execution_count": 21,
   "id": "c6a6a82a",
   "metadata": {
    "execution": {
     "iopub.execute_input": "2024-07-08T06:29:08.523584Z",
     "iopub.status.busy": "2024-07-08T06:29:08.523152Z",
     "iopub.status.idle": "2024-07-08T06:29:08.558534Z",
     "shell.execute_reply": "2024-07-08T06:29:08.557419Z"
    },
    "papermill": {
     "duration": 0.050006,
     "end_time": "2024-07-08T06:29:08.561336",
     "exception": false,
     "start_time": "2024-07-08T06:29:08.511330",
     "status": "completed"
    },
    "tags": []
   },
   "outputs": [
    {
     "data": {
      "text/html": [
       "<div>\n",
       "<style scoped>\n",
       "    .dataframe tbody tr th:only-of-type {\n",
       "        vertical-align: middle;\n",
       "    }\n",
       "\n",
       "    .dataframe tbody tr th {\n",
       "        vertical-align: top;\n",
       "    }\n",
       "\n",
       "    .dataframe thead th {\n",
       "        text-align: right;\n",
       "    }\n",
       "</style>\n",
       "<table border=\"1\" class=\"dataframe\">\n",
       "  <thead>\n",
       "    <tr style=\"text-align: right;\">\n",
       "      <th></th>\n",
       "      <th>Title</th>\n",
       "      <th>Genre</th>\n",
       "      <th>Description</th>\n",
       "      <th>length</th>\n",
       "    </tr>\n",
       "  </thead>\n",
       "  <tbody>\n",
       "    <tr>\n",
       "      <th>1</th>\n",
       "      <td>Oscar et la dame rose (2009)</td>\n",
       "      <td>drama</td>\n",
       "      <td>Listening in to a conversation between his do...</td>\n",
       "      <td>546</td>\n",
       "    </tr>\n",
       "    <tr>\n",
       "      <th>2</th>\n",
       "      <td>Cupid (1997)</td>\n",
       "      <td>thriller</td>\n",
       "      <td>A brother and sister with a past incestuous r...</td>\n",
       "      <td>184</td>\n",
       "    </tr>\n",
       "    <tr>\n",
       "      <th>3</th>\n",
       "      <td>Young, Wild and Wonderful (1980)</td>\n",
       "      <td>adult</td>\n",
       "      <td>As the bus empties the students for their fie...</td>\n",
       "      <td>650</td>\n",
       "    </tr>\n",
       "    <tr>\n",
       "      <th>4</th>\n",
       "      <td>The Secret Sin (1915)</td>\n",
       "      <td>drama</td>\n",
       "      <td>To help their unemployed father make ends mee...</td>\n",
       "      <td>1082</td>\n",
       "    </tr>\n",
       "    <tr>\n",
       "      <th>5</th>\n",
       "      <td>The Unrecovered (2007)</td>\n",
       "      <td>drama</td>\n",
       "      <td>The film's title refers not only to the un-re...</td>\n",
       "      <td>625</td>\n",
       "    </tr>\n",
       "  </tbody>\n",
       "</table>\n",
       "</div>"
      ],
      "text/plain": [
       "                                Title       Genre  \\\n",
       "1       Oscar et la dame rose (2009)       drama    \n",
       "2                       Cupid (1997)    thriller    \n",
       "3   Young, Wild and Wonderful (1980)       adult    \n",
       "4              The Secret Sin (1915)       drama    \n",
       "5             The Unrecovered (2007)       drama    \n",
       "\n",
       "                                         Description  length  \n",
       "1   Listening in to a conversation between his do...     546  \n",
       "2   A brother and sister with a past incestuous r...     184  \n",
       "3   As the bus empties the students for their fie...     650  \n",
       "4   To help their unemployed father make ends mee...    1082  \n",
       "5   The film's title refers not only to the un-re...     625  "
      ]
     },
     "execution_count": 21,
     "metadata": {},
     "output_type": "execute_result"
    }
   ],
   "source": [
    "train_data['length']=train_data['Description'].apply(len)\n",
    "train_data.head()"
   ]
  },
  {
   "cell_type": "code",
   "execution_count": 22,
   "id": "329fe964",
   "metadata": {
    "execution": {
     "iopub.execute_input": "2024-07-08T06:29:08.587569Z",
     "iopub.status.busy": "2024-07-08T06:29:08.587030Z",
     "iopub.status.idle": "2024-07-08T06:29:09.255924Z",
     "shell.execute_reply": "2024-07-08T06:29:09.254697Z"
    },
    "papermill": {
     "duration": 0.687073,
     "end_time": "2024-07-08T06:29:09.258978",
     "exception": false,
     "start_time": "2024-07-08T06:29:08.571905",
     "status": "completed"
    },
    "tags": []
   },
   "outputs": [
    {
     "data": {
      "image/png": "[encoded data removed]",
      "text/plain": [
       "<Figure size 800x700 with 1 Axes>"
      ]
     },
     "metadata": {},
     "output_type": "display_data"
    }
   ],
   "source": [
    "plt.figure(figsize=(8, 7))\n",
    "\n",
    "sns.histplot(data=train_data, x='length', bins=20, kde=True, color='blue')\n",
    "\n",
    "plt.xlabel('Length', fontsize=14, fontweight='bold')\n",
    "plt.ylabel('Frequency', fontsize=14, fontweight='bold')\n",
    "plt.title('Distribution of Lengths', fontsize=16, fontweight='bold')\n",
    "\n",
    "plt.show()"
   ]
  },
  {
   "cell_type": "markdown",
   "id": "b46647b3",
   "metadata": {
    "papermill": {
     "duration": 0.010512,
     "end_time": "2024-07-08T06:29:09.280800",
     "exception": false,
     "start_time": "2024-07-08T06:29:09.270288",
     "status": "completed"
    },
    "tags": []
   },
   "source": [
    "# Data Preprocessing"
   ]
  },
  {
   "cell_type": "code",
   "execution_count": 23,
   "id": "5b9e4891",
   "metadata": {
    "execution": {
     "iopub.execute_input": "2024-07-08T06:29:09.304675Z",
     "iopub.status.busy": "2024-07-08T06:29:09.303761Z",
     "iopub.status.idle": "2024-07-08T06:30:19.063365Z",
     "shell.execute_reply": "2024-07-08T06:30:19.062203Z"
    },
    "papermill": {
     "duration": 69.774315,
     "end_time": "2024-07-08T06:30:19.065983",
     "exception": false,
     "start_time": "2024-07-08T06:29:09.291668",
     "status": "completed"
    },
    "tags": []
   },
   "outputs": [],
   "source": [
    "def data_processing(text):\n",
    "    text = text.lower()\n",
    "    text = re.sub(r'@\\S+', '', text)\n",
    "    text = re.sub(r'http\\S+', '', text)\n",
    "    text = re.sub(r'.pic\\S+', '', text)\n",
    "    text = re.sub(r'[^a-zA-Z+]', ' ', text)  # Change to replace non-characters with a space\n",
    "    text = \"\".join([i for i in text if i not in string.punctuation])\n",
    "    words = nltk.word_tokenize(text)\n",
    "    text = \" \".join([i for i in words if i not in stop_words and len(i) > 2])\n",
    "    text = re.sub(r\"\\s+\", \" \", text).strip()  # Replace multiple spaces with a single space\n",
    "    return text\n",
    "\n",
    "train_data[\"TextCleaning\"] = train_data[\"Description\"].apply(data_processing)\n",
    "test_data[\"TextCleaning\"] = test_data[\"Description\"].apply(data_processing)"
   ]
  },
  {
   "cell_type": "code",
   "execution_count": 24,
   "id": "28f7867d",
   "metadata": {
    "execution": {
     "iopub.execute_input": "2024-07-08T06:30:19.089163Z",
     "iopub.status.busy": "2024-07-08T06:30:19.088816Z",
     "iopub.status.idle": "2024-07-08T06:30:19.104410Z",
     "shell.execute_reply": "2024-07-08T06:30:19.103259Z"
    },
    "papermill": {
     "duration": 0.030039,
     "end_time": "2024-07-08T06:30:19.106973",
     "exception": false,
     "start_time": "2024-07-08T06:30:19.076934",
     "status": "completed"
    },
    "tags": []
   },
   "outputs": [
    {
     "data": {
      "text/html": [
       "<div>\n",
       "<style scoped>\n",
       "    .dataframe tbody tr th:only-of-type {\n",
       "        vertical-align: middle;\n",
       "    }\n",
       "\n",
       "    .dataframe tbody tr th {\n",
       "        vertical-align: top;\n",
       "    }\n",
       "\n",
       "    .dataframe thead th {\n",
       "        text-align: right;\n",
       "    }\n",
       "</style>\n",
       "<table border=\"1\" class=\"dataframe\">\n",
       "  <thead>\n",
       "    <tr style=\"text-align: right;\">\n",
       "      <th></th>\n",
       "      <th>Title</th>\n",
       "      <th>Genre</th>\n",
       "      <th>Description</th>\n",
       "      <th>length</th>\n",
       "      <th>TextCleaning</th>\n",
       "    </tr>\n",
       "  </thead>\n",
       "  <tbody>\n",
       "    <tr>\n",
       "      <th>1</th>\n",
       "      <td>Oscar et la dame rose (2009)</td>\n",
       "      <td>drama</td>\n",
       "      <td>Listening in to a conversation between his do...</td>\n",
       "      <td>546</td>\n",
       "      <td>listening conversation doctor parents year old...</td>\n",
       "    </tr>\n",
       "    <tr>\n",
       "      <th>2</th>\n",
       "      <td>Cupid (1997)</td>\n",
       "      <td>thriller</td>\n",
       "      <td>A brother and sister with a past incestuous r...</td>\n",
       "      <td>184</td>\n",
       "      <td>brother sister past incestuous relationship cu...</td>\n",
       "    </tr>\n",
       "    <tr>\n",
       "      <th>3</th>\n",
       "      <td>Young, Wild and Wonderful (1980)</td>\n",
       "      <td>adult</td>\n",
       "      <td>As the bus empties the students for their fie...</td>\n",
       "      <td>650</td>\n",
       "      <td>bus empties students field trip museum natural...</td>\n",
       "    </tr>\n",
       "    <tr>\n",
       "      <th>4</th>\n",
       "      <td>The Secret Sin (1915)</td>\n",
       "      <td>drama</td>\n",
       "      <td>To help their unemployed father make ends mee...</td>\n",
       "      <td>1082</td>\n",
       "      <td>help unemployed father make ends meet edith tw...</td>\n",
       "    </tr>\n",
       "    <tr>\n",
       "      <th>5</th>\n",
       "      <td>The Unrecovered (2007)</td>\n",
       "      <td>drama</td>\n",
       "      <td>The film's title refers not only to the un-re...</td>\n",
       "      <td>625</td>\n",
       "      <td>film title refers recovered bodies ground zero...</td>\n",
       "    </tr>\n",
       "    <tr>\n",
       "      <th>...</th>\n",
       "      <td>...</td>\n",
       "      <td>...</td>\n",
       "      <td>...</td>\n",
       "      <td>...</td>\n",
       "      <td>...</td>\n",
       "    </tr>\n",
       "    <tr>\n",
       "      <th>54210</th>\n",
       "      <td>\"Bonino\" (1953)</td>\n",
       "      <td>comedy</td>\n",
       "      <td>This short-lived NBC live sitcom centered on ...</td>\n",
       "      <td>507</td>\n",
       "      <td>short lived nbc live sitcom centered bonino wo...</td>\n",
       "    </tr>\n",
       "    <tr>\n",
       "      <th>54211</th>\n",
       "      <td>Dead Girls Don't Cry (????)</td>\n",
       "      <td>horror</td>\n",
       "      <td>The NEXT Generation of EXPLOITATION. The sist...</td>\n",
       "      <td>781</td>\n",
       "      <td>next generation exploitation sisters kapa bay ...</td>\n",
       "    </tr>\n",
       "    <tr>\n",
       "      <th>54212</th>\n",
       "      <td>Ronald Goedemondt: Ze bestaan echt (2008)</td>\n",
       "      <td>documentary</td>\n",
       "      <td>Ze bestaan echt, is a stand-up comedy about g...</td>\n",
       "      <td>255</td>\n",
       "      <td>bestaan echt stand comedy growing facing fears...</td>\n",
       "    </tr>\n",
       "    <tr>\n",
       "      <th>54213</th>\n",
       "      <td>Make Your Own Bed (1944)</td>\n",
       "      <td>comedy</td>\n",
       "      <td>Walter and Vivian live in the country and hav...</td>\n",
       "      <td>642</td>\n",
       "      <td>walter vivian live country difficult time keep...</td>\n",
       "    </tr>\n",
       "    <tr>\n",
       "      <th>54214</th>\n",
       "      <td>Nature's Fury: Storm of the Century (2006)</td>\n",
       "      <td>history</td>\n",
       "      <td>On Labor Day Weekend, 1935, the most intense ...</td>\n",
       "      <td>311</td>\n",
       "      <td>labor day weekend intense hurricane ever make ...</td>\n",
       "    </tr>\n",
       "  </tbody>\n",
       "</table>\n",
       "<p>54214 rows × 5 columns</p>\n",
       "</div>"
      ],
      "text/plain": [
       "                                              Title          Genre  \\\n",
       "1                     Oscar et la dame rose (2009)          drama    \n",
       "2                                     Cupid (1997)       thriller    \n",
       "3                 Young, Wild and Wonderful (1980)          adult    \n",
       "4                            The Secret Sin (1915)          drama    \n",
       "5                           The Unrecovered (2007)          drama    \n",
       "...                                             ...            ...   \n",
       "54210                              \"Bonino\" (1953)         comedy    \n",
       "54211                  Dead Girls Don't Cry (????)         horror    \n",
       "54212    Ronald Goedemondt: Ze bestaan echt (2008)    documentary    \n",
       "54213                     Make Your Own Bed (1944)         comedy    \n",
       "54214   Nature's Fury: Storm of the Century (2006)        history    \n",
       "\n",
       "                                             Description  length  \\\n",
       "1       Listening in to a conversation between his do...     546   \n",
       "2       A brother and sister with a past incestuous r...     184   \n",
       "3       As the bus empties the students for their fie...     650   \n",
       "4       To help their unemployed father make ends mee...    1082   \n",
       "5       The film's title refers not only to the un-re...     625   \n",
       "...                                                  ...     ...   \n",
       "54210   This short-lived NBC live sitcom centered on ...     507   \n",
       "54211   The NEXT Generation of EXPLOITATION. The sist...     781   \n",
       "54212   Ze bestaan echt, is a stand-up comedy about g...     255   \n",
       "54213   Walter and Vivian live in the country and hav...     642   \n",
       "54214   On Labor Day Weekend, 1935, the most intense ...     311   \n",
       "\n",
       "                                            TextCleaning  \n",
       "1      listening conversation doctor parents year old...  \n",
       "2      brother sister past incestuous relationship cu...  \n",
       "3      bus empties students field trip museum natural...  \n",
       "4      help unemployed father make ends meet edith tw...  \n",
       "5      film title refers recovered bodies ground zero...  \n",
       "...                                                  ...  \n",
       "54210  short lived nbc live sitcom centered bonino wo...  \n",
       "54211  next generation exploitation sisters kapa bay ...  \n",
       "54212  bestaan echt stand comedy growing facing fears...  \n",
       "54213  walter vivian live country difficult time keep...  \n",
       "54214  labor day weekend intense hurricane ever make ...  \n",
       "\n",
       "[54214 rows x 5 columns]"
      ]
     },
     "execution_count": 24,
     "metadata": {},
     "output_type": "execute_result"
    }
   ],
   "source": [
    "train_data"
   ]
  },
  {
   "cell_type": "markdown",
   "id": "96f98877",
   "metadata": {
    "papermill": {
     "duration": 0.011458,
     "end_time": "2024-07-08T06:30:19.130133",
     "exception": false,
     "start_time": "2024-07-08T06:30:19.118675",
     "status": "completed"
    },
    "tags": []
   },
   "source": [
    "# Using TF-IDF to vectorize the data"
   ]
  },
  {
   "cell_type": "code",
   "execution_count": 25,
   "id": "4289c707",
   "metadata": {
    "execution": {
     "iopub.execute_input": "2024-07-08T06:30:19.154214Z",
     "iopub.status.busy": "2024-07-08T06:30:19.153853Z",
     "iopub.status.idle": "2024-07-08T06:30:25.999839Z",
     "shell.execute_reply": "2024-07-08T06:30:25.998570Z"
    },
    "papermill": {
     "duration": 6.861259,
     "end_time": "2024-07-08T06:30:26.002535",
     "exception": false,
     "start_time": "2024-07-08T06:30:19.141276",
     "status": "completed"
    },
    "tags": []
   },
   "outputs": [],
   "source": [
    "vector = TfidfVectorizer()\n",
    "\n",
    "x_train = vector.fit_transform(train_data[\"TextCleaning\"])\n",
    "x_test = vector.transform(test_data[\"TextCleaning\"])"
   ]
  },
  {
   "cell_type": "markdown",
   "id": "918c6903",
   "metadata": {
    "papermill": {
     "duration": 0.010629,
     "end_time": "2024-07-08T06:30:26.024362",
     "exception": false,
     "start_time": "2024-07-08T06:30:26.013733",
     "status": "completed"
    },
    "tags": []
   },
   "source": [
    "# Split the data into train data and test data"
   ]
  },
  {
   "cell_type": "code",
   "execution_count": 26,
   "id": "ec289e3b",
   "metadata": {
    "execution": {
     "iopub.execute_input": "2024-07-08T06:30:26.048192Z",
     "iopub.status.busy": "2024-07-08T06:30:26.047826Z",
     "iopub.status.idle": "2024-07-08T06:30:26.073358Z",
     "shell.execute_reply": "2024-07-08T06:30:26.072241Z"
    },
    "papermill": {
     "duration": 0.040399,
     "end_time": "2024-07-08T06:30:26.075923",
     "exception": false,
     "start_time": "2024-07-08T06:30:26.035524",
     "status": "completed"
    },
    "tags": []
   },
   "outputs": [],
   "source": [
    "x = x_train\n",
    "y = train_data[\"Genre\"]\n",
    "\n",
    "x_train, x_test, y_train, y_test = train_test_split(x, y, test_size= 0.2, random_state=42)"
   ]
  },
  {
   "cell_type": "code",
   "execution_count": 27,
   "id": "26f1eccc",
   "metadata": {
    "execution": {
     "iopub.execute_input": "2024-07-08T06:30:26.099413Z",
     "iopub.status.busy": "2024-07-08T06:30:26.099070Z",
     "iopub.status.idle": "2024-07-08T06:30:26.105095Z",
     "shell.execute_reply": "2024-07-08T06:30:26.103891Z"
    },
    "papermill": {
     "duration": 0.020964,
     "end_time": "2024-07-08T06:30:26.108004",
     "exception": false,
     "start_time": "2024-07-08T06:30:26.087040",
     "status": "completed"
    },
    "tags": []
   },
   "outputs": [
    {
     "name": "stdout",
     "output_type": "stream",
     "text": [
      "Size of x_train:  (43371, 116601)\n",
      "Size of y_train:  (43371,)\n",
      "Size of x_test:  (10843, 116601)\n",
      "Size of y_test:  (10843,)\n"
     ]
    }
   ],
   "source": [
    "print(\"Size of x_train: \", (x_train.shape))\n",
    "print(\"Size of y_train: \", (y_train.shape))\n",
    "print(\"Size of x_test: \", (x_test.shape))\n",
    "print(\"Size of y_test: \", (y_test.shape))"
   ]
  }
 ],
 "metadata": {
  "kaggle": {
   "accelerator": "none",
   "dataSources": [
    {
     "datasetId": 5352322,
     "sourceId": 8902931,
     "sourceType": "datasetVersion"
    }
   ],
   "dockerImageVersionId": 30732,
   "isGpuEnabled": false,
   "isInternetEnabled": false,
   "language": "python",
   "sourceType": "notebook"
  },
  "kernelspec": {
   "display_name": "Python 3",
   "language": "python",
   "name": "python3"
  },
  "language_info": {
   "codemirror_mode": {
    "name": "ipython",
    "version": 3
   },
   "file_extension": ".py",
   "mimetype": "text/x-python",
   "name": "python",
   "nbconvert_exporter": "python",
   "pygments_lexer": "ipython3",
   "version": "3.10.13"
  },
  "papermill": {
   "default_parameters": {},
   "duration": 88.132586,
   "end_time": "2024-07-08T06:30:26.840859",
   "environment_variables": {},
   "exception": null,
   "input_path": "__notebook__.ipynb",
   "output_path": "__notebook__.ipynb",
   "parameters": {},
   "start_time": "2024-07-08T06:28:58.708273",
   "version": "2.5.0"
  }
 },
 "nbformat": 4,
 "nbformat_minor": 5
}
